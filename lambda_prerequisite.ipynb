{
 "cells": [
  {
   "cell_type": "code",
   "execution_count": 1,
   "metadata": {},
   "outputs": [
    {
     "name": "stdout",
     "output_type": "stream",
     "text": [
      "36\n"
     ]
    }
   ],
   "source": [
    "import pyautogui\n",
    "lum_sqr = lambda y : y ** 2 \n",
    "x = lum_sqr(6)\n",
    "print (x)"
   ]
  },
  {
   "cell_type": "code",
   "execution_count": 7,
   "metadata": {},
   "outputs": [
    {
     "name": "stdout",
     "output_type": "stream",
     "text": [
      "8\n"
     ]
    }
   ],
   "source": [
    "lum_cub = lambda y : y ** 3\n",
    "x = lum_cub(2)\n",
    "print(x)"
   ]
  },
  {
   "cell_type": "code",
   "execution_count": 8,
   "metadata": {},
   "outputs": [
    {
     "name": "stdout",
     "output_type": "stream",
     "text": [
      "9\n"
     ]
    }
   ],
   "source": [
    "lum_sum = lambda x, y : x + y \n",
    "print(lum_sum(4,5))"
   ]
  },
  {
   "cell_type": "code",
   "execution_count": 9,
   "metadata": {},
   "outputs": [
    {
     "name": "stdout",
     "output_type": "stream",
     "text": [
      "20\n"
     ]
    }
   ],
   "source": [
    "lum_sum = lambda x, y : x * y \n",
    "print(lum_sum(4,5))"
   ]
  },
  {
   "cell_type": "code",
   "execution_count": 1,
   "metadata": {},
   "outputs": [
    {
     "name": "stdout",
     "output_type": "stream",
     "text": [
      "9\n"
     ]
    }
   ],
   "source": [
    "def func(x):\n",
    "   print (x**2)\n",
    "\n",
    "func(3)\n",
    "    "
   ]
  },
  {
   "cell_type": "code",
   "execution_count": 2,
   "metadata": {},
   "outputs": [
    {
     "name": "stdout",
     "output_type": "stream",
     "text": [
      "9\n"
     ]
    }
   ],
   "source": [
    "func_lambda = lambda x: x**2\n",
    "print(func_lambda(3))"
   ]
  },
  {
   "cell_type": "code",
   "execution_count": 3,
   "metadata": {},
   "outputs": [
    {
     "name": "stdout",
     "output_type": "stream",
     "text": [
      "8\n"
     ]
    }
   ],
   "source": [
    "func2_lambda = lambda x,y : x + y\n",
    "print(func2_lambda(3,5))"
   ]
  },
  {
   "cell_type": "code",
   "execution_count": 4,
   "metadata": {},
   "outputs": [
    {
     "data": {
      "text/plain": [
       "[2, 2, 3, 4, 5]"
      ]
     },
     "execution_count": 4,
     "metadata": {},
     "output_type": "execute_result"
    }
   ],
   "source": [
    "sorted([5, 2, 4, 2, 3])"
   ]
  },
  {
   "cell_type": "code",
   "execution_count": 6,
   "metadata": {},
   "outputs": [
    {
     "data": {
      "text/plain": [
       "[('Arya', 'Baratheon'),\n",
       " ('Arya', 'Stark'),\n",
       " ('Bran', 'Stark'),\n",
       " ('Caitlyn', 'Tully'),\n",
       " ('Jon', 'Snow'),\n",
       " ('Jon', 'Targaryen')]"
      ]
     },
     "execution_count": 6,
     "metadata": {},
     "output_type": "execute_result"
    }
   ],
   "source": [
    "got = [('Caitlyn', 'Tully'), ('Arya', 'Stark'), ('Bran', 'Stark'), ('Arya', 'Baratheon'), ('Jon', 'Snow'), ('Jon', 'Targaryen')]\n",
    "sorted(got)"
   ]
  },
  {
   "cell_type": "code",
   "execution_count": 8,
   "metadata": {},
   "outputs": [
    {
     "name": "stdout",
     "output_type": "stream",
     "text": [
      "Tully\n",
      "Stark\n",
      "Stark\n",
      "Baratheon\n",
      "Snow\n",
      "Targaryen\n"
     ]
    }
   ],
   "source": [
    "for element in got:\n",
    "    print(element[1])"
   ]
  },
  {
   "cell_type": "code",
   "execution_count": 17,
   "metadata": {},
   "outputs": [
    {
     "data": {
      "text/plain": [
       "[('Arya', 'Stark'),\n",
       " ('Arya', 'Baratheon'),\n",
       " ('Bran', 'Stark'),\n",
       " ('Caitlyn', 'Tully'),\n",
       " ('Jon', 'Snow'),\n",
       " ('Jon', 'Targaryen')]"
      ]
     },
     "execution_count": 17,
     "metadata": {},
     "output_type": "execute_result"
    }
   ],
   "source": [
    "sorted(got, key = lambda x: x[0])"
   ]
  },
  {
   "cell_type": "code",
   "execution_count": 22,
   "metadata": {},
   "outputs": [
    {
     "data": {
      "text/plain": [
       "[('Jon', 'Snow'),\n",
       " ('Caitlyn', 'Tully'),\n",
       " ('Arya', 'Stark'),\n",
       " ('Bran', 'Stark'),\n",
       " ('Arya', 'Baratheon'),\n",
       " ('Jon', 'Targaryen')]"
      ]
     },
     "execution_count": 22,
     "metadata": {},
     "output_type": "execute_result"
    }
   ],
   "source": [
    "sorted(got, key = lambda x: len(x[1]))"
   ]
  },
  {
   "cell_type": "code",
   "execution_count": 28,
   "metadata": {},
   "outputs": [
    {
     "name": "stdout",
     "output_type": "stream",
     "text": [
      "[2, 10, 20, 30, 40, 50, 84]\n"
     ]
    }
   ],
   "source": [
    "ls_numbers = [1, 5, 10, 15, 20, 25, 42]\n",
    "ls_twice = [ x * 2 for x in ls_numbers ]\n",
    "print(ls_twice)"
   ]
  },
  {
   "cell_type": "code",
   "execution_count": 37,
   "metadata": {},
   "outputs": [
    {
     "name": "stdout",
     "output_type": "stream",
     "text": [
      "[2, 10, 20, 30, 40, 50, 84]\n"
     ]
    }
   ],
   "source": [
    "ls_doubled = map(lambda x: x*2 , ls_numbers)\n",
    "\n",
    "print(list(ls_doubled))"
   ]
  },
  {
   "cell_type": "code",
   "execution_count": 53,
   "metadata": {},
   "outputs": [
    {
     "name": "stdout",
     "output_type": "stream",
     "text": [
      "[32684089, 289]\n"
     ]
    }
   ],
   "source": [
    "func = lambda x,y: x ** y\n",
    "print(list(map(func,[5717,17],[2,2])))\n"
   ]
  },
  {
   "cell_type": "code",
   "execution_count": 56,
   "metadata": {},
   "outputs": [
    {
     "name": "stdout",
     "output_type": "stream",
     "text": [
      "[('Drogon', 508), ('Rhaegal', 273), ('Arya', 1278)]\n"
     ]
    }
   ],
   "source": [
    "got = [('Drogon', 508), ('Jon', 103), ('Rhaegal', 273), ('Cersei', 199), ('Arya', 1278)]\n",
    "killers = filter(lambda x : x[1] > 200 , got)\n",
    "print(list(killers))"
   ]
  },
  {
   "cell_type": "code",
   "execution_count": 57,
   "metadata": {},
   "outputs": [
    {
     "data": {
      "text/plain": [
       "[2]"
      ]
     },
     "execution_count": 57,
     "metadata": {},
     "output_type": "execute_result"
    }
   ],
   "source": [
    "numbers = [1, 2, 3]\n",
    "list(filter(lambda x: (x + 1) * 3 / 3 % 3 == 0, numbers))"
   ]
  },
  {
   "cell_type": "code",
   "execution_count": null,
   "metadata": {},
   "outputs": [],
   "source": []
  },
  {
   "attachments": {},
   "cell_type": "markdown",
   "metadata": {},
   "source": [
    "Sorting with Lambda Functions\n",
    "\n",
    "Create a list with 5 tuples, where each tuple contains a name and a number. Then, using the sort function, create a lambda function for each of the following bullet points:"
   ]
  },
  {
   "cell_type": "code",
   "execution_count": 58,
   "metadata": {},
   "outputs": [],
   "source": [
    "my_list = [('Harry',2) , ('Sammie', 5), ('Alex', 7), ('Jamie', 54), ('Sal', 73)]"
   ]
  },
  {
   "cell_type": "code",
   "execution_count": 60,
   "metadata": {},
   "outputs": [
    {
     "data": {
      "text/plain": [
       "[('Harry', 2), ('Sammie', 5), ('Alex', 7), ('Jamie', 54), ('Sal', 73)]"
      ]
     },
     "execution_count": 60,
     "metadata": {},
     "output_type": "execute_result"
    }
   ],
   "source": [
    "# Sort the list by the number in each tuple\n",
    "sorted(my_list,key = lambda  x : x[1])"
   ]
  },
  {
   "cell_type": "code",
   "execution_count": 61,
   "metadata": {},
   "outputs": [
    {
     "data": {
      "text/plain": [
       "[('Alex', 7), ('Harry', 2), ('Jamie', 54), ('Sal', 73), ('Sammie', 5)]"
      ]
     },
     "execution_count": 61,
     "metadata": {},
     "output_type": "execute_result"
    }
   ],
   "source": [
    "# Sort the list by the name in each tuple\n",
    "sorted(my_list,key = lambda x : x[0])"
   ]
  },
  {
   "cell_type": "code",
   "execution_count": 63,
   "metadata": {},
   "outputs": [
    {
     "data": {
      "text/plain": [
       "[('Sal', 73), ('Alex', 7), ('Harry', 2), ('Jamie', 54), ('Sammie', 5)]"
      ]
     },
     "execution_count": 63,
     "metadata": {},
     "output_type": "execute_result"
    }
   ],
   "source": [
    "# Sort the list by the length of the name in each tuple\n",
    "sorted(my_list,key = lambda x : len(x[0]), )"
   ]
  },
  {
   "cell_type": "code",
   "execution_count": 66,
   "metadata": {},
   "outputs": [
    {
     "data": {
      "text/plain": [
       "[('Sammie', 5), ('Harry', 2), ('Jamie', 54), ('Alex', 7), ('Sal', 73)]"
      ]
     },
     "execution_count": 66,
     "metadata": {},
     "output_type": "execute_result"
    }
   ],
   "source": [
    "# Sort the list by the length of the name in each tuple, but in reverse order\n",
    "sorted(my_list,key = lambda x : len(x[0]), reverse= 1)"
   ]
  },
  {
   "attachments": {},
   "cell_type": "markdown",
   "metadata": {},
   "source": [
    "Lambda Functions with Map"
   ]
  },
  {
   "cell_type": "code",
   "execution_count": 68,
   "metadata": {},
   "outputs": [
    {
     "name": "stdout",
     "output_type": "stream",
     "text": [
      "[4, 10, 12, 14, 16]\n"
     ]
    }
   ],
   "source": [
    "# Create a lambda function that squares a number. Then use map to square each number in the list\n",
    "nums_sq = (2, 5, 6, 7, 8)\n",
    "sqr_lambda =list(map(lambda x: x*2 , nums_sq)) \n",
    "print(sqr_lambda)"
   ]
  },
  {
   "cell_type": "code",
   "execution_count": 70,
   "metadata": {},
   "outputs": [
    {
     "name": "stdout",
     "output_type": "stream",
     "text": [
      "[125, 216, 512, 12167, 5832]\n"
     ]
    }
   ],
   "source": [
    "# Create a lambda function that cubes a number. Then use map to cube each number in the list\n",
    "nums_cube = (5 ,6 ,8 , 23, 18)\n",
    "cube_lambda = list(map(lambda x : x**3, nums_cube))\n",
    "print(cube_lambda)"
   ]
  },
  {
   "cell_type": "code",
   "execution_count": 73,
   "metadata": {},
   "outputs": [
    {
     "data": {
      "text/plain": [
       "[125, 36, 64, 12167, 324]"
      ]
     },
     "execution_count": 73,
     "metadata": {},
     "output_type": "execute_result"
    }
   ],
   "source": [
    "# Create a lambda function that takes in a number and returns that number squared if it is even, and cubed if it is odd. Then use map to apply the function to each number in the list\n",
    "list(map(lambda x : x**2 if x%2 ==0 else x**3, nums_cube))"
   ]
  },
  {
   "attachments": {},
   "cell_type": "markdown",
   "metadata": {},
   "source": [
    "Create a lambda function that takes in a string and returns True if the string is longer than 5 characters, and False if it is not. Then use filter and the lambda function to filter out all strings that are longer than 5 characters"
   ]
  },
  {
   "cell_type": "code",
   "execution_count": 104,
   "metadata": {},
   "outputs": [
    {
     "data": {
      "text/plain": [
       "['sibasnk', 'alexandra', 'Onyxia']"
      ]
     },
     "execution_count": 104,
     "metadata": {},
     "output_type": "execute_result"
    }
   ],
   "source": [
    "my_string = [(\"subj\"),(\"sibasnk\"),(\"harry\"),(\"Joe\"),(\"alexandra\"),(\"Onyxia\")]\n",
    "list(filter(lambda x: True if len(x) > 5 else False, my_string))"
   ]
  },
  {
   "attachments": {},
   "cell_type": "markdown",
   "metadata": {},
   "source": [
    "Create a lambda function that takes in a string and returns True if the string is longer than 5 characters and starts with a vowel, and False if it is not. Then use filter and the lambda function to filter out all strings that are longer than 5 characters and start with a vowel"
   ]
  },
  {
   "cell_type": "code",
   "execution_count": 105,
   "metadata": {},
   "outputs": [
    {
     "data": {
      "text/plain": [
       "['alexandra', 'Onyxia']"
      ]
     },
     "execution_count": 105,
     "metadata": {},
     "output_type": "execute_result"
    }
   ],
   "source": [
    "vowels = [\"a\",\"e\",\"i\",\"o\",\"u\"]\n",
    "list(filter(lambda x: True if len(x)>5 and x[0].lower() in vowels else False, my_string))"
   ]
  },
  {
   "cell_type": "code",
   "execution_count": null,
   "metadata": {},
   "outputs": [],
   "source": []
  }
 ],
 "metadata": {
  "kernelspec": {
   "display_name": "base",
   "language": "python",
   "name": "python3"
  },
  "language_info": {
   "codemirror_mode": {
    "name": "ipython",
    "version": 3
   },
   "file_extension": ".py",
   "mimetype": "text/x-python",
   "name": "python",
   "nbconvert_exporter": "python",
   "pygments_lexer": "ipython3",
   "version": "3.9.15 (main, Nov 24 2022, 08:28:41) \n[Clang 14.0.6 ]"
  },
  "orig_nbformat": 4,
  "vscode": {
   "interpreter": {
    "hash": "6b9be589265932731161682c0c4a251261c4a10ba60ad47ad753cbbdd0f479a1"
   }
  }
 },
 "nbformat": 4,
 "nbformat_minor": 2
}
